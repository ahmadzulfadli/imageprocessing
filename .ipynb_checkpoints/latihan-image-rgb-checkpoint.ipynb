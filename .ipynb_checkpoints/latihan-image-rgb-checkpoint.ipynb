{
 "cells": [
  {
   "cell_type": "code",
   "execution_count": 5,
   "id": "3c50e6b3",
   "metadata": {},
   "outputs": [],
   "source": [
    "import cv2\n",
    "import numpy as np\n",
    "import matplotlib.pyplot as plt\n",
    "%matplotlib inline\n",
    "from IPython.display import Image"
   ]
  },
  {
   "cell_type": "code",
   "execution_count": 7,
   "id": "f922f12e",
   "metadata": {},
   "outputs": [
    {
     "data": {
      "image/png": "[encoded data removed]",
      "text/plain": [
       "<IPython.core.display.Image object>"
      ]
     },
     "execution_count": 7,
     "metadata": {},
     "output_type": "execute_result"
    }
   ],
   "source": [
    "Image(filename='camera.PNG')"
   ]
  },
  {
   "cell_type": "code",
   "execution_count": 9,
   "id": "0d87fa8c",
   "metadata": {},
   "outputs": [
    {
     "name": "stdout",
     "output_type": "stream",
     "text": [
      "[[  0   0   0   0  41  71  80  81  81  80  72  43   0   0   0   0]\n",
      " [  0   0  20  71  82  84  86  86  86  86  84  82  72  22   0   0]\n",
      " [  0  19  75  83  85  86  86  86  86  86  86  85  83  76  21   0]\n",
      " [  0  70  81  84  84  84  84  84  84  84  84  84  84  81  70   0]\n",
      " [ 38  79  83  83 103 109 109 109 109  92  83  91  83  83  79  40]\n",
      " [ 65  80  82 108 254 255 255 255 255 205  99 227 116  82  80  67]\n",
      " [ 73  80  80 113 255 255 255 255 255 226 227 255 118  80  80  74]\n",
      " [ 74  79  79 111 255 255 255 255 255 255 255 255 117  79  79  74]\n",
      " [ 73  77  78 111 255 255 255 255 255 255 255 255 116  78  77  73]\n",
      " [ 70  76  76 110 255 255 255 255 255 227 230 255 115  76  76  70]\n",
      " [ 59  74  76 103 254 255 255 255 255 204  96 230 112  76  74  61]\n",
      " [ 33  71  74  74 100 106 106 106 106  86  74  85  75  74  71  34]\n",
      " [  0  59  72  73  73  73  73  73  73  73  73  73  73  72  60   0]\n",
      " [  0  15  63  72  72  73  73  73  73  73  73  72  72  64  16   0]\n",
      " [  0   0  15  58  69  71  72  72  72  72  71  69  59  16   0   0]\n",
      " [  0   0   0   0  31  56  65  67  67  65  57  32   0   0   0   0]]\n"
     ]
    }
   ],
   "source": [
    "mat_img = cv2.imread('camera.PNG',0)\n",
    "print(mat_img)"
   ]
  },
  {
   "cell_type": "code",
   "execution_count": 12,
   "id": "acc6ef4f",
   "metadata": {},
   "outputs": [
    {
     "data": {
      "text/plain": [
       "<matplotlib.image.AxesImage at 0xec6a628>"
      ]
     },
     "execution_count": 12,
     "metadata": {},
     "output_type": "execute_result"
    },
    {
     "data": {
      "image/png": "[encoded data removed]",
      "text/plain": [
       "<Figure size 432x288 with 1 Axes>"
      ]
     },
     "metadata": {
      "needs_background": "light"
     },
     "output_type": "display_data"
    }
   ],
   "source": [
    "plt.imshow(mat_img, cmap='gray')"
   ]
  },
  {
   "cell_type": "code",
   "execution_count": null,
   "id": "eab1b33d",
   "metadata": {},
   "outputs": [],
   "source": [
    "img = cv2.imread('fadli.jpg',cv2.IMREAD_COLOR)\n",
    "b,g,r = cv2.split(img)\n",
    "\n",
    "plt.figure(figsize=[20,5])\n",
    "plt.subplot(141);plt.imshow(r,cmap='gray');plt.title('Red')\n",
    "plt.subplot(142);plt.imshow(g,cmap='gray');plt.title('Green')\n",
    "plt.subplot(143);plt.imshow(b,cmap='gray');plt.title('Blue')\n",
    "\n",
    "imgmarged = cv2.marge((b,g,r))\n",
    "plt.subplot(144);plt.imshow(imgmarged[:,:,::-1]);plt.title('Blue')"
   ]
  }
 ],
 "metadata": {
  "kernelspec": {
   "display_name": "Python 3 (ipykernel)",
   "language": "python",
   "name": "python3"
  },
  "language_info": {
   "codemirror_mode": {
    "name": "ipython",
    "version": 3
   },
   "file_extension": ".py",
   "mimetype": "text/x-python",
   "name": "python",
   "nbconvert_exporter": "python",
   "pygments_lexer": "ipython3",
   "version": "3.8.3"
  }
 },
 "nbformat": 4,
 "nbformat_minor": 5
}
